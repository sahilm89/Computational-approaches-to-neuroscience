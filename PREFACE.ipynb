{
 "cells": [
  {
   "cell_type": "markdown",
   "metadata": {},
   "source": [
    "# <center> PREFACE </center>"
   ]
  },
  {
   "cell_type": "markdown",
   "metadata": {},
   "source": [
    "Theoretical enquiry in the field of neuroscience has been the backbone at various levels of understanding of the nervous system.\n",
    "\n",
    "It is paramount that computational neuroscience utilizes computational resources to impart knowledge, first of which should be the ability to teach theory with code. Much like the field of machine learning "
   ]
  },
  {
   "cell_type": "markdown",
   "metadata": {
    "heading_collapsed": true
   },
   "source": [
    "### Organization of the book\n",
    "\n",
    "This book is organized at two levels levels. \n",
    "\n",
    "**Organization by scale**\n",
    "\n",
    "    Single neuron models, sub-neuronal models, networks and systems neuroscience and behavior. \n",
    "**Organization by level of detail**\n",
    "  \n",
    "    As much as possible, this book is organized with perspective of XYZ. We begin by building abstract or \"simple\" models, and then details are incrementally added to the same model. This is useful in many ways in a book of this form. First, since this is a code-book, the code that is created in previous sections can be reused and built upon. Second, this process of incremental build-up shows both the assumptions made at each level of the model, and the value of adding detail (read variables) to a model. This can be for instance to simulate phenomena that either couldn't be captured with fewer variables, or if variables have biophysical meaning (give examples of each). Third, many times this is chronological and can help understand with history how the field moved forward (XOR problem and multi-layer perceptrons). Last, it helps anchor the previous concepts by applying them immediately. In improvizational theatre, this principle is the basis of creating complex dramatic structures from scratch and is called \"Yes, And\" or \"Accept, and Build\". \n",
    "    \n",
    "Something about remedials."
   ]
  },
  {
   "cell_type": "markdown",
   "metadata": {},
   "source": [
    "### Contributing to this book\n",
    "\n",
    "Since this is a book that is primarily online, it has been kept modular, i.e. something that can be built upon as a resource, much like a large open source codebase. This implies that we invite book chapters (in the form of Jupyter notebooks) from the community, for topics that could be organized under the umbrella of computational neuroscience, and haven't been covered in this book. Please note that since this is an academic resource, these will only be added to this codebase if the chapter and code is from the authors themselves, from experts in the field, or after a peer-review process. \n",
    "\n",
    "------  Perhaps there can be templates on how book chapters can be organized later: maybe in phase 4 ----------------------------"
   ]
  },
  {
   "cell_type": "markdown",
   "metadata": {},
   "source": [
    "### Acknowledgements\n",
    "\n",
    "The basic structure of the book is based on the lectures and tutorials taken at the Computational Approaches to Memory and Plasticity (CAMP) summer school that takes place at National Centre for Biological Science, Bengaluru, India.\n",
    "\n",
    "This is a jupyter book containing concepts and code for a young student of computational neuroscience to understand in a hands-on way fundamental concepts in the field. "
   ]
  }
 ],
 "metadata": {
  "hide_input": false,
  "kernelspec": {
   "display_name": "Python 2",
   "language": "python",
   "name": "python2"
  },
  "language_info": {
   "codemirror_mode": {
    "name": "ipython",
    "version": 2
   },
   "file_extension": ".py",
   "mimetype": "text/x-python",
   "name": "python",
   "nbconvert_exporter": "python",
   "pygments_lexer": "ipython2",
   "version": "2.7.12"
  },
  "toc": {
   "colors": {
    "hover_highlight": "#DAA520",
    "navigate_num": "#000000",
    "navigate_text": "#333333",
    "running_highlight": "#FF0000",
    "selected_highlight": "#FFD700",
    "sidebar_border": "#EEEEEE",
    "wrapper_background": "#FFFFFF"
   },
   "moveMenuLeft": false,
   "nav_menu": {
    "height": "81px",
    "width": "252px"
   },
   "navigate_menu": true,
   "number_sections": false,
   "sideBar": true,
   "threshold": 4,
   "toc_cell": false,
   "toc_section_display": "block",
   "toc_window_display": true,
   "widenNotebook": false
  },
  "varInspector": {
   "cols": {
    "lenName": 16,
    "lenType": 16,
    "lenVar": 40
   },
   "kernels_config": {
    "python": {
     "delete_cmd_postfix": "",
     "delete_cmd_prefix": "del ",
     "library": "var_list.py",
     "varRefreshCmd": "print(var_dic_list())"
    },
    "r": {
     "delete_cmd_postfix": ") ",
     "delete_cmd_prefix": "rm(",
     "library": "var_list.r",
     "varRefreshCmd": "cat(var_dic_list()) "
    }
   },
   "types_to_exclude": [
    "module",
    "function",
    "builtin_function_or_method",
    "instance",
    "_Feature"
   ],
   "window_display": false
  }
 },
 "nbformat": 4,
 "nbformat_minor": 2
}
