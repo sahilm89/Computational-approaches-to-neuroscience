{
 "cells": [
  {
   "cell_type": "code",
   "execution_count": 1,
   "metadata": {},
   "outputs": [],
   "source": [
    "## Population response"
   ]
  },
  {
   "cell_type": "code",
   "execution_count": null,
   "metadata": {},
   "outputs": [],
   "source": [
    "%matplotlib inline\n",
    "from brian2 import *\n",
    "\n",
    "avgPot = []\n",
    "## Number of input and output neurons\n",
    "N = 10\n",
    "F = 2 * Hz\n",
    "\n",
    "eqs = '''\n",
    "dpreVolt/dt=r : 1\n",
    "r : Hz\n",
    "'''\n",
    "poissonNeurons = PoissonGroup(N, rates=F)\n",
    "\n",
    "#store()\n",
    "#input_spikes = SpikeMonitor(poissonNeurons)\n",
    "#run(1000 * ms)\n",
    "#plot(input_spikes.t, input_spikes.i, '.k')\n",
    "#xlabel('Time (ms)')\n",
    "#ylabel('Neuron index')\n",
    "#show()\n",
    "#restore()"
   ]
  },
  {
   "cell_type": "code",
   "execution_count": null,
   "metadata": {},
   "outputs": [],
   "source": [
    "## Let us initialize variables for the output neurons.\n",
    "numOut = 1\n",
    "\n",
    "tau_e = 3 * ms # Decay current\n",
    "tau_m = 10 * ms # Decay of membrane potential\n",
    "Rm = 100 * Mohm # Membrane resistance\n",
    "\n",
    "eqs_neuron = '''\n",
    "dv/dt=(Rm*I-v)/tau_m:volt\n",
    "dI/dt=-I/tau_e:amp\n",
    "'''\n",
    "outputNeurons = NeuronGroup(numOut, model=eqs_neuron)"
   ]
  },
  {
   "cell_type": "code",
   "execution_count": null,
   "metadata": {},
   "outputs": [],
   "source": [
    "## Let's put synapses between these groups of neurons.\n",
    "\n",
    "A_SE = 250 * pA # Absolute synaptic efficacy\n",
    "\n",
    "taud=100*ms # Decay time synaptic depression\n",
    "tauf=3*ms # Decay time synaptic facilitation\n",
    "U=.1 # Release probability"
   ]
  },
  {
   "cell_type": "code",
   "execution_count": null,
   "metadata": {},
   "outputs": [],
   "source": [
    "S=Synapses(poissonNeurons, outputNeurons,\n",
    "           model='''w : amp\n",
    "                    dx/dt=(1-x)/taud : 1 (clock-driven)\n",
    "                    du/dt=(-u)/tauf : 1 (clock-driven)\n",
    "                 ''',\n",
    "           on_pre=''' u+=U*(1-u)\n",
    "                  I+=w*u*x\n",
    "                  x-= x*u''')\n",
    "\n",
    "                  \n",
    "S.connect( 'j==0') # all to one connection\n",
    "S.w=A_SE # Initializing synaptic weights to absolute synaptic efficacy\n",
    "\n",
    "# Initialization of STP variables\n",
    "\n",
    "S.x = 1 # Fraction of resources that remain available after neurotransmitter depletion \n",
    "S.u = U # Fraction of available resources ready for use (release probability)"
   ]
  },
  {
   "cell_type": "code",
   "execution_count": null,
   "metadata": {},
   "outputs": [],
   "source": [
    "## Setting up monitors\n",
    "trace = StateMonitor(outputNeurons, 'v', record=[0])\n",
    "u_vals = StateMonitor(S, 'u', record=[0])\n",
    "x_vals = StateMonitor(S, 'x', record=[0])\n",
    "\n",
    "#monitors = [trace, u_vals, x_vals]\n",
    "#net = Network(collect())  # automatically include G and S\n",
    "#net.add(monitors)  # manually add the monitors\n",
    "\n",
    "run(1000 * ms)\n",
    "\n",
    "plot(trace.t/ms, trace.v[0] / mV)\n",
    "avgPot.append(np.average(trace.v[0]))\n",
    "title('Vm_' + str(numOut))\n",
    "tight_layout()\n",
    "show()"
   ]
  },
  {
   "cell_type": "code",
   "execution_count": null,
   "metadata": {},
   "outputs": [],
   "source": [
    "plot(trace.t/ms, u_vals.u[0])\n",
    "plot(trace.t/ms, x_vals.x[0])\n",
    "title('Vm_' + str(numOut))\n",
    "tight_layout()\n",
    "show()"
   ]
  }
 ],
 "metadata": {
  "hide_input": false,
  "kernelspec": {
   "display_name": "Python 2",
   "language": "python",
   "name": "python2"
  },
  "language_info": {
   "codemirror_mode": {
    "name": "ipython",
    "version": 2
   },
   "file_extension": ".py",
   "mimetype": "text/x-python",
   "name": "python",
   "nbconvert_exporter": "python",
   "pygments_lexer": "ipython2",
   "version": "2.7.12"
  },
  "toc": {
   "colors": {
    "hover_highlight": "#DAA520",
    "navigate_num": "#000000",
    "navigate_text": "#333333",
    "running_highlight": "#FF0000",
    "selected_highlight": "#FFD700",
    "sidebar_border": "#EEEEEE",
    "wrapper_background": "#FFFFFF"
   },
   "moveMenuLeft": true,
   "nav_menu": {
    "height": "12px",
    "width": "252px"
   },
   "navigate_menu": true,
   "number_sections": true,
   "sideBar": true,
   "threshold": 4,
   "toc_cell": false,
   "toc_section_display": "block",
   "toc_window_display": false,
   "widenNotebook": false
  },
  "varInspector": {
   "cols": {
    "lenName": 16,
    "lenType": 16,
    "lenVar": 40
   },
   "kernels_config": {
    "python": {
     "delete_cmd_postfix": "",
     "delete_cmd_prefix": "del ",
     "library": "var_list.py",
     "varRefreshCmd": "print(var_dic_list())"
    },
    "r": {
     "delete_cmd_postfix": ") ",
     "delete_cmd_prefix": "rm(",
     "library": "var_list.r",
     "varRefreshCmd": "cat(var_dic_list()) "
    }
   },
   "types_to_exclude": [
    "module",
    "function",
    "builtin_function_or_method",
    "instance",
    "_Feature"
   ],
   "window_display": false
  }
 },
 "nbformat": 4,
 "nbformat_minor": 2
}
